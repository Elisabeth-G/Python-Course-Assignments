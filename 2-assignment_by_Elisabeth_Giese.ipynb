{
 "cells": [
  {
   "cell_type": "markdown",
   "metadata": {},
   "source": [
    "# Python Block Course\n",
    "# Assignment 2: Functions and modules in focus"
   ]
  },
  {
   "cell_type": "markdown",
   "metadata": {},
   "source": [
    "Prof. Dr. Karsten Donnay, Stefan Scholz\n",
    "\n",
    "Winter Term 2019 / 2020\n",
    "\n",
    "In this second assignment we will practice how to write functions and use modules in Python. You can score up to 15 points in this assignment. Please submit your solutions inside this notebook in your repository on GitHub. The deadline for submission is on Wednesday, October 16, 09:59 am. You will get individual feedback in your repository."
   ]
  },
  {
   "cell_type": "markdown",
   "metadata": {},
   "source": [
    "## 2.1 Moving Mean"
   ]
  },
  {
   "cell_type": "markdown",
   "metadata": {},
   "source": [
    "For the analysis of the German stock market index (DAX), you want to look at its adjusted closing prices over the last couple of years. You have already found a data set, which provides you with the open, high, low close and adjusted closing prices from 1988 to 2018. \n",
    "\n",
    "In the first steps of your analysis you are interested in the mean and moving mean of the adjusted closing prices. You are interested in the effect of smoothing on the prices.\n",
    "\n",
    "In order to calculate these results, you have to import for all available days their date and adjusted closing price. Then you need to write a function to calculate the mean of all prices. Additionally you have to write a function to calculate the moving mean, analogous to the illustration below. And finally you want to visualize all values of these first steps. \n",
    "\n",
    "The moving means with a window size of 3 would be calculated as means inside the following intervals. \n",
    "\n",
    "```text\n",
    "original    : [1, 2, 3, 4, 5, 6] \n",
    "windows     : [1, 2, 3], [2, 3, 4], [3, 4, 5], [4, 5, 6]\n",
    "```"
   ]
  },
  {
   "cell_type": "markdown",
   "metadata": {},
   "source": [
    "<div class=\"alert alert-block alert-info\">\n",
    "    <b>Exercise (5 Points)</b>: Download the table which is available <a href=\"https://raw.githubusercontent.com/therbootcamp/BaselRBootcamp_2018July/master/_sessions/_data/baselrbootcamp_data/%5EGDAXI.csv\">here</a>. Extract the adjusted closing prices as a list of floats and the dates as a list of datetime objects. Ignore days where any of these two information is missing. Use the modules csv and datetime. \n",
    "</div>"
   ]
  },
  {
   "cell_type": "code",
   "execution_count": 13,
   "metadata": {},
   "outputs": [
    {
     "name": "stdout",
     "output_type": "stream",
     "text": [
      "True\n"
     ]
    }
   ],
   "source": [
    "# before downloading the table the right module needs to be imported\n",
    "# import os because it is used for files \n",
    "import os\n",
    "\n",
    "# step 1: check if the file that i want to download is there \n",
    "work_dir = os.getcwd() # defines the working dictionary\n",
    "assignment_file = os.path.join(work_dir, \"GDAXI.csv\") # defines the assignment file\n",
    "print(os.path.exists(assignment_file)) # checks file for assignment "
   ]
  },
  {
   "cell_type": "code",
   "execution_count": 38,
   "metadata": {},
   "outputs": [],
   "source": [
    "# step 2: download the table\n",
    "# import csv because it is needed to read the file type the table is saved as \n",
    "import csv\n",
    "\n",
    "with open(file=\"GDAXI.csv\", mode = \"r\") as csv_file: # downloads the file in the reading format & shows files content\n",
    "    csv_reader = csv.reader(csv_file, delimiter= ',') # creates the csv reader and how the data should be presented\n",
    "    for row in csv_reader: # iterrates over all rows in the table  \n",
    "        if row = date :\n",
    "        print(date)\n",
    "        elif row = adj_close :\n",
    "        print(adj_close)\n",
    "        else\n",
    "        \n",
    "        \n",
    "        print(row) # displays the table"
   ]
  },
  {
   "cell_type": "code",
   "execution_count": null,
   "metadata": {},
   "outputs": [],
   "source": [
    "# stept 3: extract floats and dates \n",
    "# the following code should give the dates and the floates separately \n",
    "import pandas \n",
    "colnames = ['date', 'open', 'high', 'low', 'close', 'adj_close', 'volume']\n",
    "data = pandas.read_csv(\"GDAXI.csv\", names= colnames)\n",
    "\n",
    "# get dates seperately\n",
    "date=data.date.tolist() \n",
    "print(date)\n",
    "\n",
    "# get floats data serparately\n",
    "close =data.close.tolist() \n",
    "print(close)\n",
    "high =data.high.tolist()\n",
    "print(high)\n",
    "low =data.low.tolist()\n",
    "print(low)\n",
    "adj_close =data.adj_close.tolist()\n",
    "print(adj_close)\n",
    "volume=data.volume.tolist()\n",
    "print(volume)"
   ]
  },
  {
   "cell_type": "markdown",
   "metadata": {},
   "source": [
    "<div class=\"alert alert-block alert-info\">\n",
    "    <b>Exercise (3 Points)</b>: Write a function that computes the mean of a list. \n",
    "</div>"
   ]
  },
  {
   "cell_type": "code",
   "execution_count": null,
   "metadata": {},
   "outputs": [],
   "source": [
    "import statistics # needs to be done to use the build in function for the mean \n",
    "\n",
    "# define the function \n",
    "def mean_function(any_list):\n",
    "    any_list = # define the list\n",
    "    list_mean = mean(any_list) # should calculate the mean of the list \n",
    "    return list_mean # should give the mean of the list \n",
    "\n",
    "print(list_mean) # displays the mean of the list "
   ]
  },
  {
   "cell_type": "markdown",
   "metadata": {},
   "source": [
    "<div class=\"alert alert-block alert-info\">\n",
    "    <b>Exercise (2 Points)</b>: Compute the mean of all adjusted closing prices inside your data.\n",
    "</div>"
   ]
  },
  {
   "cell_type": "code",
   "execution_count": null,
   "metadata": {},
   "outputs": [],
   "source": [
    "# if the dunction to compute the mean of any list in the previous exersize is correct then only thing,\n",
    "# that needs to be changed is replace any_list by the list of the adjusting closing prices"
   ]
  },
  {
   "cell_type": "code",
   "execution_count": null,
   "metadata": {},
   "outputs": [],
   "source": [
    "# function that computes mean of adjusted closing prices\n",
    "def mean_function(adj_closing):\n",
    "    adj_closing = # this I should have gotten from the first exersize that I was not able to do \n",
    "                  # but technically if I had the data i would put it here\n",
    "        adj_closing_mean = mean(adj_closing) # computes the mean of the adjusted closing prices list\n",
    "        return adj_closing_mean\n",
    "\n",
    "print(adj_closing_mean) # should display the mean of adjusting closing prices"
   ]
  },
  {
   "cell_type": "markdown",
   "metadata": {},
   "source": [
    "<div class=\"alert alert-block alert-info\">\n",
    "    <b>Exercise (3 Points)</b>: Write a function which calculates the moving mean of a list of floats. Define an additional parameter which takes the windows size used, where the default window size is 1. Keep in mind that the length of the list will change and that you can reuse your mean function. \n",
    "</div>"
   ]
  },
  {
   "cell_type": "code",
   "execution_count": null,
   "metadata": {},
   "outputs": [],
   "source": [
    "# define the function for the floating mean\n",
    "def floating_mean(adj_closing):\n",
    "    adj_closing= # this again the input for the mean that should be available from the first exersize\n",
    "\n",
    "    # window size needs to be define before running the loop\n",
    "    window_size=1 # for this exerzise the window size is one but this way it can be adjusted individually\n",
    "    \n",
    "    # create a loop \n",
    "    for i in adj_closing # for every element  of the adjusted closing price the loop is run\n",
    "    # with pop() we can get the first element of the list as it gives and returns the first element of the list \n",
    "    # we want the first element of the list so we should use pop(0), or to make it general define a window size \n",
    "    # to not forget to chnage the pop element\n",
    "        adj_closing.pop(window_size) # gives you the floating adjusted closing prices with a defined window size \n",
    "                        \n",
    "\n",
    "    # compute the mean \n",
    "    adj_closing_mean_floating= mean(adj_closing.pop(window_size))\n",
    "    return adj_closing_mean_floating\n",
    "\n",
    "# print mean of adjusted closing prices that are floating\n",
    "print(adj_closing_mean_floating)"
   ]
  },
  {
   "cell_type": "markdown",
   "metadata": {},
   "source": []
  },
  {
   "cell_type": "markdown",
   "metadata": {},
   "source": [
    "<div class=\"alert alert-block alert-info\">\n",
    "    <b>Exercise (2 Points)</b>: Compute the moving means of all adjusted closing prices inside your data with a window size of 30. \n",
    "</div>"
   ]
  },
  {
   "cell_type": "code",
   "execution_count": null,
   "metadata": {},
   "outputs": [],
   "source": [
    "# for this exercise the code from the perious one can be copied and only the window size needs to be changed\n",
    "\n",
    "# define the function for the floating mean\n",
    "def floating_mean(adj_closing):\n",
    "    adj_closing= # this again the input for the mean that should be available from the first exersize\n",
    "\n",
    "    # window size needs to be define before running the loop\n",
    "    window_size=30 # for this exerzise the window size is 30\n",
    "    \n",
    "    # create a loop  \n",
    "    for i in adj_closing\n",
    "            adj_closing.pop(window_size)                         \n",
    "\n",
    "    # compute the mean \n",
    "    adj_closing_mean_floating= mean(adj_closing.pop(window_size))\n",
    "    return adj_closing_mean_floating\n",
    "\n",
    "# print mean of adjusted closing prices that are floating\n",
    "print(adj_closing_mean_floating)"
   ]
  },
  {
   "cell_type": "code",
   "execution_count": null,
   "metadata": {},
   "outputs": [],
   "source": []
  },
  {
   "cell_type": "markdown",
   "metadata": {},
   "source": [
    "Now you can make an optional visualization of your computed results. In this way, you can also double check your results. We have already prepared the following code for this. All you have to do is replace the uppercase variables and functions with your own ones. Also note that you need an external package for the visualization, which is already pre-installed in Anaconda though. "
   ]
  },
  {
   "cell_type": "code",
   "execution_count": null,
   "metadata": {},
   "outputs": [],
   "source": [
    "import matplotlib.pyplot as plt\n",
    "\n",
    "# plot adjust closing prices\n",
    "plt.plot(DATES, PRICES, label=\"adjusted closing prices\")\n",
    "# plot moving mean\n",
    "plt.plot(DATES[15:-14], PRICES_MOVING, label=\"moving mean\")\n",
    "# plot mean\n",
    "plt.plot(DATES, [MEAN(PRICES)]*len(PRICES), label=\"mean\")\n",
    "# show legend\n",
    "plt.legend()\n",
    "# show plot\n",
    "plt.show()"
   ]
  },
  {
   "cell_type": "code",
   "execution_count": null,
   "metadata": {},
   "outputs": [],
   "source": []
  }
 ],
 "metadata": {
  "kernelspec": {
   "display_name": "Python 3",
   "language": "python",
   "name": "python3"
  },
  "language_info": {
   "codemirror_mode": {
    "name": "ipython",
    "version": 3
   },
   "file_extension": ".py",
   "mimetype": "text/x-python",
   "name": "python",
   "nbconvert_exporter": "python",
   "pygments_lexer": "ipython3",
   "version": "3.7.3"
  }
 },
 "nbformat": 4,
 "nbformat_minor": 4
}
