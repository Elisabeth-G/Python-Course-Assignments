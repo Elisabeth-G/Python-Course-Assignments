{
 "cells": [
  {
   "cell_type": "markdown",
   "metadata": {},
   "source": [
    "# Python Block Course\n",
    "# Assignment 1: Python basics and programming fundamentals"
   ]
  },
  {
   "cell_type": "markdown",
   "metadata": {},
   "source": [
    "Prof. Dr. Karsten Donnay, Stefan Scholz\n",
    "\n",
    "Winter Term 2019 / 2020\n",
    "\n",
    "In this first assignment we will practice how to use Jupyter Notebooks and how to execute Python code. You can score up to 15 points in this assignment. Please submit your solutions inside this notebook in your repository on GitHub. The deadline for submission is on Tuesday, October 15, 09:59 am. You will get individual feedback in your repository."
   ]
  },
  {
   "cell_type": "markdown",
   "metadata": {},
   "source": [
    "## 1.1 Encoding Text"
   ]
  },
  {
   "cell_type": "markdown",
   "metadata": {},
   "source": [
    "Suppose you want to send a secret message. Therefore, you want to use a very simple encoding method called [Ceasar Cipher](https://en.wikipedia.org/wiki/Caesar_cipher). For this, you first have to define which characters you want to send and of couse which message you want to send. We have already prepared an alphabet and a message for you."
   ]
  },
  {
   "cell_type": "code",
   "execution_count": 2,
   "metadata": {},
   "outputs": [],
   "source": [
    "# define characters you want to use\n",
    "alphabet = list(\"abcdefghijklmnopqrstuvwxyzABCDEFGHIJKLMNOPQRSTUVWXYZ .\")"
   ]
  },
  {
   "cell_type": "code",
   "execution_count": 3,
   "metadata": {},
   "outputs": [],
   "source": [
    "# define message you want to send\n",
    "message = \"Mission accomplished. Meeting point is Mailand. I will wear a black coat.\""
   ]
  },
  {
   "cell_type": "markdown",
   "metadata": {},
   "source": [
    "To get a encoded alphabet we need to shift our alphabet by a certain amount of characters. Therefore we can use a combination of **pop()** and **append()**. We have already prepared some code to move the alphabet by three characters. "
   ]
  },
  {
   "cell_type": "markdown",
   "metadata": {},
   "source": [
    "<div class=\"alert alert-block alert-info\">\n",
    "<b>Exercise (2 Points)</b>: Try to understand the following code. To increase the security level, increase the shift to a value greater than three characters.\n",
    "</div>"
   ]
  },
  {
   "cell_type": "code",
   "execution_count": 4,
   "metadata": {},
   "outputs": [
    {
     "name": "stdout",
     "output_type": "stream",
     "text": [
      "['d', 'e', 'f', 'g', 'h', 'i', 'j', 'k', 'l', 'm', 'n', 'o', 'p', 'q', 'r', 's', 't', 'u', 'v', 'w', 'x', 'y', 'z', 'A', 'B', 'C', 'D', 'E', 'F', 'G', 'H', 'I', 'J', 'K', 'L', 'M', 'N', 'O', 'P', 'Q', 'R', 'S', 'T', 'U', 'V', 'W', 'X', 'Y', 'Z', ' ', '.', 'a', 'b', 'c']\n"
     ]
    }
   ],
   "source": [
    "# define characters you want to use for encoding\n",
    "alphabet_encoded = list(alphabet)\n",
    "\n",
    "# shift alphabet\n",
    "for i in range(3):\n",
    "    alphabet_encoded.append(alphabet_encoded.pop(0))\n",
    "    # range(3)gives you the first 3 elements of the function so from alphabet we would get a,b,c\n",
    "    # -> so the code under range (3) will first be run for a, then for b and then for c \n",
    "    # pop() removes and returns the last element of the list \n",
    "    # pop(0) removes and returns the first elemt of the list \n",
    "    # so for the first iterrateion we get -> alphabet_encoded.pop(0) = a [b , c, d, ...,Z, ,.]\n",
    "    # append() adds a new element at the end of the list \n",
    "    # -> so for the first iterration the a from alphabet_encoded.pop(0) will be added at the end the list \n",
    "    # -> alphabet_encoded.append(alphabet_encoded.pop(0)) = [b, c, d, ..., Z, , ., a]\n",
    "\n",
    "# print encoded alphabet\n",
    "print(alphabet_encoded)"
   ]
  },
  {
   "cell_type": "code",
   "execution_count": 8,
   "metadata": {},
   "outputs": [
    {
     "name": "stdout",
     "output_type": "stream",
     "text": [
      "['h', 'i', 'j', 'k', 'l', 'm', 'n', 'o', 'p', 'q', 'r', 's', 't', 'u', 'v', 'w', 'x', 'y', 'z', 'A', 'B', 'C', 'D', 'E', 'F', 'G', 'H', 'I', 'J', 'K', 'L', 'M', 'N', 'O', 'P', 'Q', 'R', 'S', 'T', 'U', 'V', 'W', 'X', 'Y', 'Z', ' ', '.', 'a', 'b', 'c', 'd', 'e', 'f', 'g']\n"
     ]
    }
   ],
   "source": [
    "# to increase the security lebel the shift should be greater than 3, so for example 7\n",
    "# then everything in the code stays the same and just rang(3) needs to be changed to range(7)\n",
    "\n",
    "# character used for encoding needs to be defined again because I want to shift the orinigal list, \n",
    "# else it shifts the list from the previous code that was already shifted by 3\n",
    "alphabet_encoded = list(alphabet)\n",
    "\n",
    "#create the shift by 7 elements in the alphabet\n",
    "for i in range(7):\n",
    "    alphabet_encoded.append(alphabet_encoded.pop(0))\n",
    "    \n",
    "# print the econoded alphabet shifted by 7 \n",
    "print(alphabet_encoded)"
   ]
  },
  {
   "cell_type": "markdown",
   "metadata": {},
   "source": [
    "You have an encoded alphabet now. But in order to encode your message easily, you still need a table or dictionary, in which you encode from the normal alphabet to the encoded one. We have already prepared this dictionary and encoded the original message. "
   ]
  },
  {
   "cell_type": "code",
   "execution_count": 9,
   "metadata": {},
   "outputs": [
    {
     "name": "stdout",
     "output_type": "stream",
     "text": [
      "TpzzpvufhjjvtwspzolkgfTllApunfwvpuAfpzfThpshukgfPfDpssfDlhyfhfishjrfjvhAg\n"
     ]
    }
   ],
   "source": [
    "# define dictionary with original and encoded alphabet\n",
    "encoder = dict(zip(alphabet, alphabet_encoded))\n",
    "\n",
    "# encode message\n",
    "message_encoded = \"\"\n",
    "for letter in message:\n",
    "    message_encoded += encoder[letter]\n",
    "    \n",
    "# print encoded message\n",
    "print(message_encoded)"
   ]
  },
  {
   "cell_type": "markdown",
   "metadata": {},
   "source": [
    "<div class=\"alert alert-block alert-info\">\n",
    "<b>Exercise (13 Points)</b>: Suppose you receive the encoded message and know the number of characters shifted, decode the message.\n",
    "</div>"
   ]
  },
  {
   "cell_type": "code",
   "execution_count": 10,
   "metadata": {},
   "outputs": [
    {
     "name": "stdout",
     "output_type": "stream",
     "text": [
      "{'a': 'h', 'b': 'i', 'c': 'j', 'd': 'k', 'e': 'l', 'f': 'm', 'g': 'n', 'h': 'o', 'i': 'p', 'j': 'q', 'k': 'r', 'l': 's', 'm': 't', 'n': 'u', 'o': 'v', 'p': 'w', 'q': 'x', 'r': 'y', 's': 'z', 't': 'A', 'u': 'B', 'v': 'C', 'w': 'D', 'x': 'E', 'y': 'F', 'z': 'G', 'A': 'H', 'B': 'I', 'C': 'J', 'D': 'K', 'E': 'L', 'F': 'M', 'G': 'N', 'H': 'O', 'I': 'P', 'J': 'Q', 'K': 'R', 'L': 'S', 'M': 'T', 'N': 'U', 'O': 'V', 'P': 'W', 'Q': 'X', 'R': 'Y', 'S': 'Z', 'T': ' ', 'U': '.', 'V': 'a', 'W': 'b', 'X': 'c', 'Y': 'd', 'Z': 'e', ' ': 'f', '.': 'g'}\n"
     ]
    }
   ],
   "source": [
    "# zip() gives a tuple of the elemets \n",
    "# zip(alphabet, alphabet_encoded) should give (a,h), (b,i) and so on\n",
    "# dict() creates a rew dictionary from the exsiting dictionary so {a:h, b:i, ...}\n",
    "\n",
    "print(encoder)\n",
    "# the encoder gives us the dictionary \n",
    "# where it shows which alphabet letter corresponds to the encoded alphabet letter"
   ]
  },
  {
   "cell_type": "code",
   "execution_count": 11,
   "metadata": {},
   "outputs": [],
   "source": [
    "# for letter in message -> die loop geht jeden buchstaben der definierten variable message durch \n",
    "# und ordnet jedem buchstaben der message (dessen buchstaben als key) einen value zu aus dem encoder dictionary\n",
    "# += adds right side to left variable and assigns the results to left variable"
   ]
  },
  {
   "cell_type": "code",
   "execution_count": 12,
   "metadata": {},
   "outputs": [],
   "source": [
    "# so using the encoder the message_encoded can be rewritten in the message\n",
    "# to get the message we need to look for the letter of message_encoded for the value in the encoder \n",
    "# and find the corresponding key. The letters we get from the key will give the message  \n",
    "\n",
    "# for example the first part of the message_encoded=Tpzzpvufh  \n",
    "# the encoder gives will be T=M, p=i, z=s, v=o, u=n, f = , h=a\n",
    "# so the message will be: Mission a"
   ]
  },
  {
   "cell_type": "code",
   "execution_count": 16,
   "metadata": {},
   "outputs": [
    {
     "name": "stdout",
     "output_type": "stream",
     "text": [
      "Mission accomplished. Meeting point is Mailand. I will wear a black coat.\n"
     ]
    }
   ],
   "source": [
    "# a code needs to be found that transforms the message_encoded using the encoder back to the message \n",
    "\n",
    "# so the loop should start with for letter in message_encoded \n",
    "\n",
    "# before the letters of the message were the keys and the letters of the message_encoded where the values \n",
    "# of the dictionary \n",
    "# now it needs to be the other way around: the letters of the message_encoded need to be the key and \n",
    "# the letters of of the message need to be the values of the dictionary\n",
    "# -> a new encoder needs to be created where in the zio() alphabet and alphabet_encoded are switched\n",
    "\n",
    "# create new encoder\n",
    "encoder_new=dict(zip(alphabet_encoded, alphabet))\n",
    "\n",
    "# create loop to encode message\n",
    "message_new = \"\" # this will be the result at the end/ what we are looking for\n",
    "for letter in message_encoded: # we want to transform each letter of the encoded massage\n",
    "        message_new += encoder_new[letter] # should apply the new encoder to each letter of the message_encoded \n",
    "                                    # and so create the message\n",
    "print(message_new) #shows decoded message which is the same as the original message"
   ]
  }
 ],
 "metadata": {
  "kernelspec": {
   "display_name": "Python 3",
   "language": "python",
   "name": "python3"
  },
  "language_info": {
   "codemirror_mode": {
    "name": "ipython",
    "version": 3
   },
   "file_extension": ".py",
   "mimetype": "text/x-python",
   "name": "python",
   "nbconvert_exporter": "python",
   "pygments_lexer": "ipython3",
   "version": "3.7.3"
  }
 },
 "nbformat": 4,
 "nbformat_minor": 4
}
